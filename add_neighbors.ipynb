{
 "cells": [
  {
   "cell_type": "code",
   "execution_count": 1,
   "metadata": {},
   "outputs": [],
   "source": [
    "import pandas as pd\n",
    "df = pd.read_csv('./data/nyc_taxi.csv')"
   ]
  },
  {
   "cell_type": "code",
   "execution_count": 5,
   "metadata": {},
   "outputs": [
    {
     "name": "stdout",
     "output_type": "stream",
     "text": [
      "63    Manhattan\n",
      "Name: boro_name, dtype: object\n"
     ]
    }
   ],
   "source": [
    "### EXAMPLE WITH A COORDINATE\n",
    "import geopandas as gpd\n",
    "from shapely.geometry import Point\n",
    "\n",
    "barrios = gpd.read_file(\"./data/barrios_nyc.geojson\")\n",
    "\n",
    "origen = Point(-73.985428, 40.748817)\n",
    "\n",
    "punto = barrios[barrios.contains(origen)]\n",
    "print(punto['boro_name'])"
   ]
  },
  {
   "cell_type": "code",
   "execution_count": 6,
   "metadata": {},
   "outputs": [],
   "source": [
    "### APPLY TO DATASET\n",
    "gdf_origin = gpd.GeoDataFrame(\n",
    "    df,\n",
    "    geometry=gpd.points_from_xy(df['pickup_longitude'], df['pickup_latitude']),\n",
    "    crs=\"EPSG:4326\" \n",
    ")\n",
    "\n",
    "gdf_origin = gdf_origin.sjoin(barrios, how=\"left\", predicate=\"intersects\")\n",
    "gdf_origin = gdf_origin.rename(columns={\"boro_name\": \"neigh_origin\"})\n",
    "\n",
    "df['neigh_origin'] = gdf_origin['neigh_origin']\n",
    "\n",
    "gdf_destination = gpd.GeoDataFrame(\n",
    "    df,\n",
    "    geometry=gpd.points_from_xy(df['dropoff_longitude'], df['dropoff_latitude']),\n",
    "    crs=\"EPSG:4326\"\n",
    ")\n",
    "\n",
    "gdf_destination = gdf_destination.sjoin(barrios, how=\"left\", predicate=\"intersects\")\n",
    "gdf_destination = gdf_destination.rename(columns={\"boro_name\": \"neigh_destination\"})\n",
    "\n",
    "df['neigh_destination'] = gdf_destination['neigh_destination']\n"
   ]
  },
  {
   "cell_type": "code",
   "execution_count": 7,
   "metadata": {},
   "outputs": [
    {
     "data": {
      "text/html": [
       "<div>\n",
       "<style scoped>\n",
       "    .dataframe tbody tr th:only-of-type {\n",
       "        vertical-align: middle;\n",
       "    }\n",
       "\n",
       "    .dataframe tbody tr th {\n",
       "        vertical-align: top;\n",
       "    }\n",
       "\n",
       "    .dataframe thead th {\n",
       "        text-align: right;\n",
       "    }\n",
       "</style>\n",
       "<table border=\"1\" class=\"dataframe\">\n",
       "  <thead>\n",
       "    <tr style=\"text-align: right;\">\n",
       "      <th></th>\n",
       "      <th>neigh_origin</th>\n",
       "      <th>neigh_destination</th>\n",
       "    </tr>\n",
       "  </thead>\n",
       "  <tbody>\n",
       "    <tr>\n",
       "      <th>0</th>\n",
       "      <td>Brooklyn</td>\n",
       "      <td>Brooklyn</td>\n",
       "    </tr>\n",
       "    <tr>\n",
       "      <th>1</th>\n",
       "      <td>Manhattan</td>\n",
       "      <td>Manhattan</td>\n",
       "    </tr>\n",
       "    <tr>\n",
       "      <th>2</th>\n",
       "      <td>Manhattan</td>\n",
       "      <td>Manhattan</td>\n",
       "    </tr>\n",
       "    <tr>\n",
       "      <th>3</th>\n",
       "      <td>Queens</td>\n",
       "      <td>Manhattan</td>\n",
       "    </tr>\n",
       "    <tr>\n",
       "      <th>4</th>\n",
       "      <td>Manhattan</td>\n",
       "      <td>Brooklyn</td>\n",
       "    </tr>\n",
       "    <tr>\n",
       "      <th>...</th>\n",
       "      <td>...</td>\n",
       "      <td>...</td>\n",
       "    </tr>\n",
       "    <tr>\n",
       "      <th>10994</th>\n",
       "      <td>Manhattan</td>\n",
       "      <td>Manhattan</td>\n",
       "    </tr>\n",
       "    <tr>\n",
       "      <th>10995</th>\n",
       "      <td>Manhattan</td>\n",
       "      <td>Manhattan</td>\n",
       "    </tr>\n",
       "    <tr>\n",
       "      <th>10996</th>\n",
       "      <td>Manhattan</td>\n",
       "      <td>Manhattan</td>\n",
       "    </tr>\n",
       "    <tr>\n",
       "      <th>10997</th>\n",
       "      <td>Manhattan</td>\n",
       "      <td>Manhattan</td>\n",
       "    </tr>\n",
       "    <tr>\n",
       "      <th>10998</th>\n",
       "      <td>Queens</td>\n",
       "      <td>Queens</td>\n",
       "    </tr>\n",
       "  </tbody>\n",
       "</table>\n",
       "<p>10999 rows × 2 columns</p>\n",
       "</div>"
      ],
      "text/plain": [
       "      neigh_origin neigh_destination\n",
       "0         Brooklyn          Brooklyn\n",
       "1        Manhattan         Manhattan\n",
       "2        Manhattan         Manhattan\n",
       "3           Queens         Manhattan\n",
       "4        Manhattan          Brooklyn\n",
       "...            ...               ...\n",
       "10994    Manhattan         Manhattan\n",
       "10995    Manhattan         Manhattan\n",
       "10996    Manhattan         Manhattan\n",
       "10997    Manhattan         Manhattan\n",
       "10998       Queens            Queens\n",
       "\n",
       "[10999 rows x 2 columns]"
      ]
     },
     "execution_count": 7,
     "metadata": {},
     "output_type": "execute_result"
    }
   ],
   "source": [
    "df[['neigh_origin','neigh_destination']]"
   ]
  },
  {
   "cell_type": "code",
   "execution_count": 8,
   "metadata": {},
   "outputs": [],
   "source": [
    "df.to_csv('./data/nyc_taxi_neigh.csv') #export as nyc_taxi_neigh.csv"
   ]
  }
 ],
 "metadata": {
  "kernelspec": {
   "display_name": "ml",
   "language": "python",
   "name": "python3"
  },
  "language_info": {
   "codemirror_mode": {
    "name": "ipython",
    "version": 3
   },
   "file_extension": ".py",
   "mimetype": "text/x-python",
   "name": "python",
   "nbconvert_exporter": "python",
   "pygments_lexer": "ipython3",
   "version": "3.12.7"
  }
 },
 "nbformat": 4,
 "nbformat_minor": 2
}
